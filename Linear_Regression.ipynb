{
 "cells": [
  {
   "cell_type": "markdown",
   "metadata": {},
   "source": [
    "## Linear Regression\n",
    "In this notebook we are going to implement Linear Regression on a small dataset."
   ]
  },
  {
   "cell_type": "code",
   "execution_count": 339,
   "metadata": {},
   "outputs": [],
   "source": [
    "# Imports\n",
    "import numpy as np\n",
    "import pandas as pd\n",
    "import matplotlib.pyplot as plt"
   ]
  },
  {
   "cell_type": "markdown",
   "metadata": {},
   "source": [
    "We are using a small dataset from [here](https://college.cengage.com/mathematics/brase/understandable_statistics/7e/students/datasets/slr/frames/frame.html). This a data about Cricket Chirps Vs. Temperature. We will use linear regression to fit model."
   ]
  },
  {
   "cell_type": "code",
   "execution_count": 340,
   "metadata": {},
   "outputs": [
    {
     "name": "stdout",
     "output_type": "stream",
     "text": [
      "*** No CODEPAGE record, no encoding_override: will use 'ascii'\n"
     ]
    }
   ],
   "source": [
    "# loading data\n",
    "data = pd.read_excel('slr02.xls')"
   ]
  },
  {
   "cell_type": "markdown",
   "metadata": {},
   "source": [
    "Now we look into data we see there are two columns X and Y. \n",
    "\n",
    "were X = chirps/sec for the striped ground cricket\n",
    "\n",
    "and Y = temperature in degrees Fahrenheit"
   ]
  },
  {
   "cell_type": "code",
   "execution_count": 341,
   "metadata": {},
   "outputs": [
    {
     "data": {
      "text/html": [
       "<div>\n",
       "<style scoped>\n",
       "    .dataframe tbody tr th:only-of-type {\n",
       "        vertical-align: middle;\n",
       "    }\n",
       "\n",
       "    .dataframe tbody tr th {\n",
       "        vertical-align: top;\n",
       "    }\n",
       "\n",
       "    .dataframe thead th {\n",
       "        text-align: right;\n",
       "    }\n",
       "</style>\n",
       "<table border=\"1\" class=\"dataframe\">\n",
       "  <thead>\n",
       "    <tr style=\"text-align: right;\">\n",
       "      <th></th>\n",
       "      <th>X</th>\n",
       "      <th>Y</th>\n",
       "    </tr>\n",
       "  </thead>\n",
       "  <tbody>\n",
       "    <tr>\n",
       "      <th>0</th>\n",
       "      <td>20.000000</td>\n",
       "      <td>88.599998</td>\n",
       "    </tr>\n",
       "    <tr>\n",
       "      <th>1</th>\n",
       "      <td>16.000000</td>\n",
       "      <td>71.599998</td>\n",
       "    </tr>\n",
       "    <tr>\n",
       "      <th>2</th>\n",
       "      <td>19.799999</td>\n",
       "      <td>93.300003</td>\n",
       "    </tr>\n",
       "    <tr>\n",
       "      <th>3</th>\n",
       "      <td>18.400000</td>\n",
       "      <td>84.300003</td>\n",
       "    </tr>\n",
       "    <tr>\n",
       "      <th>4</th>\n",
       "      <td>17.100000</td>\n",
       "      <td>80.599998</td>\n",
       "    </tr>\n",
       "    <tr>\n",
       "      <th>5</th>\n",
       "      <td>15.500000</td>\n",
       "      <td>75.199997</td>\n",
       "    </tr>\n",
       "    <tr>\n",
       "      <th>6</th>\n",
       "      <td>14.700000</td>\n",
       "      <td>69.699997</td>\n",
       "    </tr>\n",
       "    <tr>\n",
       "      <th>7</th>\n",
       "      <td>17.100000</td>\n",
       "      <td>82.000000</td>\n",
       "    </tr>\n",
       "    <tr>\n",
       "      <th>8</th>\n",
       "      <td>15.400000</td>\n",
       "      <td>69.400002</td>\n",
       "    </tr>\n",
       "    <tr>\n",
       "      <th>9</th>\n",
       "      <td>16.200001</td>\n",
       "      <td>83.300003</td>\n",
       "    </tr>\n",
       "    <tr>\n",
       "      <th>10</th>\n",
       "      <td>15.000000</td>\n",
       "      <td>79.599998</td>\n",
       "    </tr>\n",
       "    <tr>\n",
       "      <th>11</th>\n",
       "      <td>17.200001</td>\n",
       "      <td>82.599998</td>\n",
       "    </tr>\n",
       "    <tr>\n",
       "      <th>12</th>\n",
       "      <td>16.000000</td>\n",
       "      <td>80.599998</td>\n",
       "    </tr>\n",
       "    <tr>\n",
       "      <th>13</th>\n",
       "      <td>17.000000</td>\n",
       "      <td>83.500000</td>\n",
       "    </tr>\n",
       "    <tr>\n",
       "      <th>14</th>\n",
       "      <td>14.400000</td>\n",
       "      <td>76.300003</td>\n",
       "    </tr>\n",
       "  </tbody>\n",
       "</table>\n",
       "</div>"
      ],
      "text/plain": [
       "            X          Y\n",
       "0   20.000000  88.599998\n",
       "1   16.000000  71.599998\n",
       "2   19.799999  93.300003\n",
       "3   18.400000  84.300003\n",
       "4   17.100000  80.599998\n",
       "5   15.500000  75.199997\n",
       "6   14.700000  69.699997\n",
       "7   17.100000  82.000000\n",
       "8   15.400000  69.400002\n",
       "9   16.200001  83.300003\n",
       "10  15.000000  79.599998\n",
       "11  17.200001  82.599998\n",
       "12  16.000000  80.599998\n",
       "13  17.000000  83.500000\n",
       "14  14.400000  76.300003"
      ]
     },
     "execution_count": 341,
     "metadata": {},
     "output_type": "execute_result"
    }
   ],
   "source": [
    "# visualise data\n",
    "data"
   ]
  },
  {
   "cell_type": "code",
   "execution_count": 342,
   "metadata": {},
   "outputs": [],
   "source": [
    "# data we got are in pandas dataframe format\n",
    "# we need to cast it in numpy array for calulations\n",
    "X = np.array(data.X)\n",
    "y = np.array(data.Y)"
   ]
  },
  {
   "cell_type": "markdown",
   "metadata": {},
   "source": [
    "Now we have two arrays. One containing input features and other array has output features"
   ]
  },
  {
   "cell_type": "code",
   "execution_count": 343,
   "metadata": {},
   "outputs": [
    {
     "data": {
      "text/plain": [
       "(array([20.        , 16.        , 19.79999924, 18.39999962, 17.10000038,\n",
       "        15.5       , 14.69999981, 17.10000038, 15.39999962, 16.20000076,\n",
       "        15.        , 17.20000076, 16.        , 17.        , 14.39999962]),\n",
       " array([88.59999847, 71.59999847, 93.30000305, 84.30000305, 80.59999847,\n",
       "        75.19999695, 69.69999695, 82.        , 69.40000153, 83.30000305,\n",
       "        79.59999847, 82.59999847, 80.59999847, 83.5       , 76.30000305]))"
      ]
     },
     "execution_count": 343,
     "metadata": {},
     "output_type": "execute_result"
    }
   ],
   "source": [
    "# visualise casted data\n",
    "X,y"
   ]
  },
  {
   "cell_type": "code",
   "execution_count": 344,
   "metadata": {},
   "outputs": [],
   "source": [
    "# function for plotting data points\n",
    "def plot_points(X, y, xlabel, ylabel):\n",
    "    \"\"\"Plot points given X and Y co-ordinates and labels them\"\"\"\n",
    "    plt.plot(X, y, 'o')\n",
    "    plt.xlabel(xlabel)\n",
    "    plt.ylabel(ylabel)"
   ]
  },
  {
   "cell_type": "code",
   "execution_count": 345,
   "metadata": {},
   "outputs": [
    {
     "data": {
      "image/png": "[encoded data removed]",
      "text/plain": [
       "<Figure size 432x288 with 1 Axes>"
      ]
     },
     "metadata": {},
     "output_type": "display_data"
    }
   ],
   "source": [
    "# plot data points\n",
    "plot(X, y, \"chirps/sec for the striped ground cricket\", \"temperature in degrees Fahrenheit\")"
   ]
  },
  {
   "cell_type": "markdown",
   "metadata": {},
   "source": [
    "We have initialised theta to a random value.\n",
    "We then create hypothesis for model which is linear in nature"
   ]
  },
  {
   "cell_type": "code",
   "execution_count": 346,
   "metadata": {},
   "outputs": [],
   "source": [
    "# initialised theta\n",
    "theta = np.random.rand(2,1)\n",
    "# hypothesis of model\n",
    "def prediction(X, theta):\n",
    "    \"\"\"Predicts output feature given input feature and theta\"\"\"\n",
    "    return theta[0] + theta[1] * X"
   ]
  },
  {
   "cell_type": "markdown",
   "metadata": {},
   "source": [
    "We want to draw our line of regression to see if fit data correctly."
   ]
  },
  {
   "cell_type": "code",
   "execution_count": 347,
   "metadata": {},
   "outputs": [],
   "source": [
    "# plots line of regression\n",
    "def draw_line(theta):\n",
    "    \"\"\"Plot a line from slope and intercept\"\"\"\n",
    "    axes = plt.gca()\n",
    "    x_vals = np.array(axes.get_xlim())\n",
    "    y_vals = prediction(x_vals, theta)\n",
    "    plt.plot(x_vals, y_vals, '--')"
   ]
  },
  {
   "cell_type": "markdown",
   "metadata": {},
   "source": [
    "We want to plot data points and line of regession on same plot to see if we are progressing as we train our model"
   ]
  },
  {
   "cell_type": "code",
   "execution_count": 348,
   "metadata": {},
   "outputs": [],
   "source": [
    "# plots points and lines\n",
    "def draw_points_and_lines(X, y, xlabel, ylabel, theta):\n",
    "    plot(X, y, xlabel, ylabel)\n",
    "    draw_line(theta)"
   ]
  },
  {
   "cell_type": "markdown",
   "metadata": {},
   "source": [
    "Now without training our model let's were the line of  regression lies"
   ]
  },
  {
   "cell_type": "code",
   "execution_count": 349,
   "metadata": {},
   "outputs": [
    {
     "data": {
      "image/png": "[encoded data removed]",
      "text/plain": [
       "<Figure size 432x288 with 1 Axes>"
      ]
     },
     "metadata": {},
     "output_type": "display_data"
    }
   ],
   "source": [
    "# draw line of regression without traing model\n",
    "draw_points_and_lines(X, y, \"chirps/sec for the striped ground cricket\", \"temperature in degrees Fahrenheit\", theta)"
   ]
  },
  {
   "cell_type": "markdown",
   "metadata": {},
   "source": [
    "Cost function givies us measure of how much we are error we have\n",
    "\n",
    "we need to minimize  it. Here we have used sqared error cost function which basically sums over all the sqared error of indivisual points"
   ]
  },
  {
   "cell_type": "code",
   "execution_count": 350,
   "metadata": {},
   "outputs": [],
   "source": [
    "# cost function\n",
    "m = len(X)\n",
    "def cost(X, y, theta):\n",
    "    \"\"\"Returns cost\"\"\"\n",
    "    return (1/(2*m)) * np.sum((prediction(X, theta) - y) ** 2)"
   ]
  },
  {
   "cell_type": "code",
   "execution_count": 351,
   "metadata": {},
   "outputs": [
    {
     "data": {
      "text/plain": [
       "2350.290280082"
      ]
     },
     "execution_count": 351,
     "metadata": {},
     "output_type": "execute_result"
    }
   ],
   "source": [
    "# initial cost without trraining model\n",
    "cost(X, y, theta)"
   ]
  },
  {
   "cell_type": "markdown",
   "metadata": {},
   "source": [
    "Now we will minimize cost with help of **gradient descent**"
   ]
  },
  {
   "cell_type": "code",
   "execution_count": 352,
   "metadata": {},
   "outputs": [],
   "source": [
    "# minimize cost\n",
    "def gradient_descent(X, y, theta, alpha, steps):\n",
    "    for i in range(steps):\n",
    "        old_cost = cost(X, y, theta)\n",
    "        temp0 = theta[0] - alpha * ((1/m) * np.sum(prediction(X, theta) - y))\n",
    "        temp1 = theta[1] - alpha * ((1/m) * np.dot((prediction(X, theta) - y), X))\n",
    "        theta[0] = temp0\n",
    "        theta[1] = temp1\n",
    "        new_cost = cost(X, y, theta)\n",
    "        if new_cost > old_cost:\n",
    "            print(\"COST INCREASING\")\n",
    "        else:\n",
    "            print(\"Cost Decresing\", new_cost)"
   ]
  },
  {
   "cell_type": "code",
   "execution_count": 353,
   "metadata": {},
   "outputs": [
    {
     "name": "stdout",
     "output_type": "stream",
     "text": [
      "Cost Decresing 1219.3536244146896\n",
      "Cost Decresing 634.7485210948471\n",
      "Cost Decresing 332.553752252047\n",
      "Cost Decresing 176.34285836004662\n",
      "Cost Decresing 95.5941170312075\n",
      "Cost Decresing 53.85335840882001\n",
      "Cost Decresing 32.27665107786299\n",
      "Cost Decresing 21.12316833538863\n",
      "Cost Decresing 15.35767083738098\n",
      "Cost Decresing 12.37733687016985\n",
      "Cost Decresing 10.836712839537793\n",
      "Cost Decresing 10.040305325906589\n",
      "Cost Decresing 9.628599070812008\n",
      "Cost Decresing 9.415753033303735\n",
      "Cost Decresing 9.305702048723482\n",
      "Cost Decresing 9.248788001653732\n",
      "Cost Decresing 9.219341561951877\n",
      "Cost Decresing 9.204093709953566\n",
      "Cost Decresing 9.196185408750686\n",
      "Cost Decresing 9.19207107709486\n",
      "Cost Decresing 9.18991792904875\n",
      "Cost Decresing 9.18877855879737\n",
      "Cost Decresing 9.188163232237063\n",
      "Cost Decresing 9.187818795451593\n",
      "Cost Decresing 9.187614387827399\n",
      "Cost Decresing 9.18748236474557\n",
      "Cost Decresing 9.187387759271871\n",
      "Cost Decresing 9.187312496258441\n",
      "Cost Decresing 9.187247232279034\n",
      "Cost Decresing 9.187187137519015\n",
      "Cost Decresing 9.187129715345\n",
      "Cost Decresing 9.18707367519443\n",
      "Cost Decresing 9.187018349948172\n",
      "Cost Decresing 9.186963394758246\n",
      "Cost Decresing 9.186908631365409\n",
      "Cost Decresing 9.186853967623701\n",
      "Cost Decresing 9.186799355900915\n",
      "Cost Decresing 9.186744771574922\n",
      "Cost Decresing 9.186690201918056\n",
      "Cost Decresing 9.186635640351046\n",
      "Cost Decresing 9.186581083472982\n",
      "Cost Decresing 9.186526529525807\n",
      "Cost Decresing 9.186471977600755\n",
      "Cost Decresing 9.186417427228058\n",
      "Cost Decresing 9.186362878164848\n",
      "Cost Decresing 9.186308330285609\n",
      "Cost Decresing 9.186253783525418\n",
      "Cost Decresing 9.186199237850719\n",
      "Cost Decresing 9.186144693244145\n",
      "Cost Decresing 9.186090149696742\n",
      "Cost Decresing 9.18603560720383\n",
      "Cost Decresing 9.185981065763011\n",
      "Cost Decresing 9.185926525373018\n",
      "Cost Decresing 9.185871986033186\n",
      "Cost Decresing 9.185817447743181\n",
      "Cost Decresing 9.185762910502788\n",
      "Cost Decresing 9.185708374311908\n",
      "Cost Decresing 9.185653839170493\n",
      "Cost Decresing 9.185599305078483\n",
      "Cost Decresing 9.185544772035838\n",
      "Cost Decresing 9.185490240042546\n",
      "Cost Decresing 9.185435709098579\n",
      "Cost Decresing 9.185381179203912\n",
      "Cost Decresing 9.185326650358526\n",
      "Cost Decresing 9.185272122562395\n",
      "Cost Decresing 9.185217595815512\n",
      "Cost Decresing 9.185163070117854\n",
      "Cost Decresing 9.185108545469378\n",
      "Cost Decresing 9.1850540218701\n",
      "Cost Decresing 9.184999499319972\n",
      "Cost Decresing 9.184944977818985\n",
      "Cost Decresing 9.184890457367116\n",
      "Cost Decresing 9.184835937964346\n",
      "Cost Decresing 9.184781419610651\n",
      "Cost Decresing 9.18472690230602\n",
      "Cost Decresing 9.184672386050421\n",
      "Cost Decresing 9.184617870843853\n",
      "Cost Decresing 9.184563356686276\n",
      "Cost Decresing 9.184508843577657\n",
      "Cost Decresing 9.184454331518024\n",
      "Cost Decresing 9.184399820507315\n",
      "Cost Decresing 9.184345310545517\n",
      "Cost Decresing 9.184290801632631\n",
      "Cost Decresing 9.184236293768604\n",
      "Cost Decresing 9.184181786953449\n",
      "Cost Decresing 9.184127281187125\n",
      "Cost Decresing 9.184072776469627\n",
      "Cost Decresing 9.184018272800904\n",
      "Cost Decresing 9.183963770180972\n",
      "Cost Decresing 9.183909268609781\n",
      "Cost Decresing 9.183854768087338\n",
      "Cost Decresing 9.183800268613613\n",
      "Cost Decresing 9.18374577018857\n",
      "Cost Decresing 9.183691272812212\n",
      "Cost Decresing 9.183636776484501\n",
      "Cost Decresing 9.183582281205435\n",
      "Cost Decresing 9.183527786974972\n",
      "Cost Decresing 9.18347329379311\n",
      "Cost Decresing 9.18341880165982\n",
      "Cost Decresing 9.183364310575083\n"
     ]
    }
   ],
   "source": [
    "# train model of 100 iterations\n",
    "gradient_descent(X, y, theta, alpha=0.001, steps=100)"
   ]
  },
  {
   "cell_type": "markdown",
   "metadata": {},
   "source": [
    "After training we can clearly see we have reduced cost and have found appropriate value of theta"
   ]
  },
  {
   "cell_type": "code",
   "execution_count": 354,
   "metadata": {},
   "outputs": [
    {
     "data": {
      "text/plain": [
       "9.183364310575083"
      ]
     },
     "execution_count": 354,
     "metadata": {},
     "output_type": "execute_result"
    }
   ],
   "source": [
    "# cost after traing model\n",
    "cost(X, y, theta)"
   ]
  },
  {
   "cell_type": "code",
   "execution_count": 355,
   "metadata": {},
   "outputs": [
    {
     "data": {
      "text/plain": [
       "array([[1.0128707],\n",
       "       [4.7314317]])"
      ]
     },
     "execution_count": 355,
     "metadata": {},
     "output_type": "execute_result"
    }
   ],
   "source": [
    "# value of theta after training \n",
    "theta"
   ]
  },
  {
   "cell_type": "code",
   "execution_count": 356,
   "metadata": {},
   "outputs": [
    {
     "data": {
      "image/png": "[encoded data removed]",
      "text/plain": [
       "<Figure size 432x288 with 1 Axes>"
      ]
     },
     "metadata": {},
     "output_type": "display_data"
    }
   ],
   "source": [
    "# regression line after traing model\n",
    "draw_points_and_lines(X, y, \"chirps/sec for the striped ground cricket\", \"temperature in degrees Fahrenheit\", theta)"
   ]
  },
  {
   "cell_type": "markdown",
   "metadata": {},
   "source": [
    "We can clearly see we have fitted line to the points. Thus we have successfully used linear regression to train a model."
   ]
  },
  {
   "cell_type": "code",
   "execution_count": null,
   "metadata": {},
   "outputs": [],
   "source": []
  }
 ],
 "metadata": {
  "kernelspec": {
   "display_name": "Python 3",
   "language": "python",
   "name": "python3"
  },
  "language_info": {
   "codemirror_mode": {
    "name": "ipython",
    "version": 3
   },
   "file_extension": ".py",
   "mimetype": "text/x-python",
   "name": "python",
   "nbconvert_exporter": "python",
   "pygments_lexer": "ipython3",
   "version": "3.6.5"
  }
 },
 "nbformat": 4,
 "nbformat_minor": 2
}
