{
 "cells": [
  {
   "cell_type": "markdown",
   "metadata": {},
   "source": [
    "#### Linear Regression\n",
    "In this **notebook** we are going to implement *Linear Regression* on a small `dataset`."
   ]
  },
  {
   "cell_type": "code",
   "execution_count": 1,
   "metadata": {},
   "outputs": [],
   "source": [
    "# Imports\n",
    "import numpy as np\n",
    "import pandas as pd\n",
    "import matplotlib.pyplot as plt"
   ]
  },
  {
   "cell_type": "markdown",
   "metadata": {},
   "source": [
    "We are using a small dataset from [here](https://college.cengage.com/mathematics/brase/understandable_statistics/7e/students/datasets/slr/frames/frame.html). This a data about Cricket Chirps Vs. Temperature. We will use linear regression to fit model."
   ]
  },
  {
   "cell_type": "code",
   "execution_count": 2,
   "metadata": {},
   "outputs": [
    {
     "name": "stdout",
     "output_type": "stream",
     "text": [
      "*** No CODEPAGE record, no encoding_override: will use 'ascii'\n"
     ]
    }
   ],
   "source": [
    "# loading data\n",
    "data = pd.read_excel('slr02.xls')"
   ]
  },
  {
   "cell_type": "markdown",
   "metadata": {},
   "source": [
    "Now we look into data we see there are two columns X and Y. \n",
    "\n",
    "were X = chirps/sec for the striped ground cricket\n",
    "\n",
    "and Y = temperature in degrees Fahrenheit"
   ]
  },
  {
   "cell_type": "code",
   "execution_count": 3,
   "metadata": {},
   "outputs": [
    {
     "data": {
      "text/html": [
       "<div>\n",
       "<style scoped>\n",
       "    .dataframe tbody tr th:only-of-type {\n",
       "        vertical-align: middle;\n",
       "    }\n",
       "\n",
       "    .dataframe tbody tr th {\n",
       "        vertical-align: top;\n",
       "    }\n",
       "\n",
       "    .dataframe thead th {\n",
       "        text-align: right;\n",
       "    }\n",
       "</style>\n",
       "<table border=\"1\" class=\"dataframe\">\n",
       "  <thead>\n",
       "    <tr style=\"text-align: right;\">\n",
       "      <th></th>\n",
       "      <th>X</th>\n",
       "      <th>Y</th>\n",
       "    </tr>\n",
       "  </thead>\n",
       "  <tbody>\n",
       "    <tr>\n",
       "      <th>0</th>\n",
       "      <td>20.000000</td>\n",
       "      <td>88.599998</td>\n",
       "    </tr>\n",
       "    <tr>\n",
       "      <th>1</th>\n",
       "      <td>16.000000</td>\n",
       "      <td>71.599998</td>\n",
       "    </tr>\n",
       "    <tr>\n",
       "      <th>2</th>\n",
       "      <td>19.799999</td>\n",
       "      <td>93.300003</td>\n",
       "    </tr>\n",
       "    <tr>\n",
       "      <th>3</th>\n",
       "      <td>18.400000</td>\n",
       "      <td>84.300003</td>\n",
       "    </tr>\n",
       "    <tr>\n",
       "      <th>4</th>\n",
       "      <td>17.100000</td>\n",
       "      <td>80.599998</td>\n",
       "    </tr>\n",
       "    <tr>\n",
       "      <th>5</th>\n",
       "      <td>15.500000</td>\n",
       "      <td>75.199997</td>\n",
       "    </tr>\n",
       "    <tr>\n",
       "      <th>6</th>\n",
       "      <td>14.700000</td>\n",
       "      <td>69.699997</td>\n",
       "    </tr>\n",
       "    <tr>\n",
       "      <th>7</th>\n",
       "      <td>17.100000</td>\n",
       "      <td>82.000000</td>\n",
       "    </tr>\n",
       "    <tr>\n",
       "      <th>8</th>\n",
       "      <td>15.400000</td>\n",
       "      <td>69.400002</td>\n",
       "    </tr>\n",
       "    <tr>\n",
       "      <th>9</th>\n",
       "      <td>16.200001</td>\n",
       "      <td>83.300003</td>\n",
       "    </tr>\n",
       "    <tr>\n",
       "      <th>10</th>\n",
       "      <td>15.000000</td>\n",
       "      <td>79.599998</td>\n",
       "    </tr>\n",
       "    <tr>\n",
       "      <th>11</th>\n",
       "      <td>17.200001</td>\n",
       "      <td>82.599998</td>\n",
       "    </tr>\n",
       "    <tr>\n",
       "      <th>12</th>\n",
       "      <td>16.000000</td>\n",
       "      <td>80.599998</td>\n",
       "    </tr>\n",
       "    <tr>\n",
       "      <th>13</th>\n",
       "      <td>17.000000</td>\n",
       "      <td>83.500000</td>\n",
       "    </tr>\n",
       "    <tr>\n",
       "      <th>14</th>\n",
       "      <td>14.400000</td>\n",
       "      <td>76.300003</td>\n",
       "    </tr>\n",
       "  </tbody>\n",
       "</table>\n",
       "</div>"
      ],
      "text/plain": [
       "            X          Y\n",
       "0   20.000000  88.599998\n",
       "1   16.000000  71.599998\n",
       "2   19.799999  93.300003\n",
       "3   18.400000  84.300003\n",
       "4   17.100000  80.599998\n",
       "5   15.500000  75.199997\n",
       "6   14.700000  69.699997\n",
       "7   17.100000  82.000000\n",
       "8   15.400000  69.400002\n",
       "9   16.200001  83.300003\n",
       "10  15.000000  79.599998\n",
       "11  17.200001  82.599998\n",
       "12  16.000000  80.599998\n",
       "13  17.000000  83.500000\n",
       "14  14.400000  76.300003"
      ]
     },
     "execution_count": 3,
     "metadata": {},
     "output_type": "execute_result"
    }
   ],
   "source": [
    "# visualise data\n",
    "data"
   ]
  },
  {
   "cell_type": "code",
   "execution_count": 4,
   "metadata": {},
   "outputs": [
    {
     "data": {
      "text/plain": [
       "pandas.core.frame.DataFrame"
      ]
     },
     "execution_count": 4,
     "metadata": {},
     "output_type": "execute_result"
    }
   ],
   "source": [
    "type(data)"
   ]
  },
  {
   "cell_type": "code",
   "execution_count": 5,
   "metadata": {},
   "outputs": [],
   "source": [
    "# data we got are in pandas dataframe format\n",
    "# we need to cast it in numpy array for calulations\n",
    "X = np.array(data.X)\n",
    "y = np.array(data.Y)"
   ]
  },
  {
   "cell_type": "markdown",
   "metadata": {},
   "source": [
    "Now we have two arrays. One containing input features and other array has output features"
   ]
  },
  {
   "cell_type": "code",
   "execution_count": 6,
   "metadata": {},
   "outputs": [
    {
     "data": {
      "text/plain": [
       "(array([20.        , 16.        , 19.79999924, 18.39999962, 17.10000038,\n",
       "        15.5       , 14.69999981, 17.10000038, 15.39999962, 16.20000076,\n",
       "        15.        , 17.20000076, 16.        , 17.        , 14.39999962]),\n",
       " array([88.59999847, 71.59999847, 93.30000305, 84.30000305, 80.59999847,\n",
       "        75.19999695, 69.69999695, 82.        , 69.40000153, 83.30000305,\n",
       "        79.59999847, 82.59999847, 80.59999847, 83.5       , 76.30000305]))"
      ]
     },
     "execution_count": 6,
     "metadata": {},
     "output_type": "execute_result"
    }
   ],
   "source": [
    "# visualise casted data\n",
    "X,y"
   ]
  },
  {
   "cell_type": "code",
   "execution_count": 7,
   "metadata": {},
   "outputs": [
    {
     "data": {
      "text/plain": [
       "numpy.ndarray"
      ]
     },
     "execution_count": 7,
     "metadata": {},
     "output_type": "execute_result"
    }
   ],
   "source": [
    "type(X)"
   ]
  },
  {
   "cell_type": "code",
   "execution_count": 8,
   "metadata": {},
   "outputs": [],
   "source": [
    "# function for plotting data points\n",
    "def plot_points(X, y, xlabel, ylabel):\n",
    "    \"\"\"Plot points given X and Y co-ordinates and labels them\"\"\"\n",
    "    plt.plot(X, y, 'o')\n",
    "    plt.xlabel(xlabel)\n",
    "    plt.ylabel(ylabel)"
   ]
  },
  {
   "cell_type": "code",
   "execution_count": 10,
   "metadata": {},
   "outputs": [
    {
     "data": {
      "image/png": "[encoded data removed]",
      "text/plain": [
       "<Figure size 432x288 with 1 Axes>"
      ]
     },
     "metadata": {},
     "output_type": "display_data"
    }
   ],
   "source": [
    "# plot data points\n",
    "plot_points(X, y, \"chirps/sec for the striped ground cricket\", \"temperature in degrees Fahrenheit\")"
   ]
  },
  {
   "cell_type": "markdown",
   "metadata": {},
   "source": [
    "We have initialised theta to a random value.\n",
    "We then create hypothesis for model which is linear in nature"
   ]
  },
  {
   "cell_type": "code",
   "execution_count": 51,
   "metadata": {},
   "outputs": [],
   "source": [
    "# initialised theta\n",
    "np.random.seed(2)\n",
    "theta = np.random.rand(2,1)\n",
    "# hypothesis of model\n",
    "def hypothesis(X, theta):\n",
    "    \"\"\"Predicts output feature given input feature and theta\"\"\"\n",
    "    return theta[0] + theta[1] * X"
   ]
  },
  {
   "cell_type": "markdown",
   "metadata": {},
   "source": [
    "We want to draw our line of regression to see if fit data correctly."
   ]
  },
  {
   "cell_type": "code",
   "execution_count": 52,
   "metadata": {},
   "outputs": [],
   "source": [
    "# plots line of regression\n",
    "def draw_line(theta):\n",
    "    \"\"\"Plot a line from slope and intercept\"\"\"\n",
    "    axes = plt.gca()\n",
    "    x_vals = np.array(axes.get_xlim())\n",
    "    y_vals = hypothesis(x_vals, theta)\n",
    "    plt.plot(x_vals, y_vals, '--')"
   ]
  },
  {
   "cell_type": "markdown",
   "metadata": {},
   "source": [
    "We want to plot data points and line of regession on same plot to see if we are progressing as we train our model"
   ]
  },
  {
   "cell_type": "code",
   "execution_count": 53,
   "metadata": {},
   "outputs": [],
   "source": [
    "# plots points and lines\n",
    "def draw_points_and_lines(X, y, xlabel, ylabel, theta):\n",
    "    \"\"\"Draws lines and points\"\"\"\n",
    "    plot_points(X, y, xlabel, ylabel)\n",
    "    draw_line(theta)"
   ]
  },
  {
   "cell_type": "markdown",
   "metadata": {},
   "source": [
    "Now without training our model let's were the line of  regression lies"
   ]
  },
  {
   "cell_type": "code",
   "execution_count": 54,
   "metadata": {},
   "outputs": [
    {
     "data": {
      "image/png": "[encoded data removed]",
      "text/plain": [
       "<Figure size 432x288 with 1 Axes>"
      ]
     },
     "metadata": {},
     "output_type": "display_data"
    }
   ],
   "source": [
    "# draw line of regression without traing model\n",
    "draw_points_and_lines(X, y, \"chirps/sec for the striped ground cricket\", \"temperature in degrees Fahrenheit\", theta)"
   ]
  },
  {
   "cell_type": "markdown",
   "metadata": {},
   "source": [
    "Cost function givies us measure of how much we are error we have\n",
    "\n",
    "we need to minimize  it. Here we have used sqared error cost function which basically sums over all the sqared error of indivisual points"
   ]
  },
  {
   "cell_type": "code",
   "execution_count": 55,
   "metadata": {},
   "outputs": [],
   "source": [
    "# cost function\n",
    "m = len(X)\n",
    "def cost(X, y, theta):\n",
    "    \"\"\"Returns cost\"\"\"\n",
    "    return (1/(2*m)) * np.sum((hypothesis(X, theta) - y) ** 2)"
   ]
  },
  {
   "cell_type": "code",
   "execution_count": 56,
   "metadata": {},
   "outputs": [
    {
     "data": {
      "text/plain": [
       "3154.8870744571304"
      ]
     },
     "execution_count": 56,
     "metadata": {},
     "output_type": "execute_result"
    }
   ],
   "source": [
    "# initial cost without trraining model\n",
    "cost(X, y, theta)"
   ]
  },
  {
   "cell_type": "code",
   "execution_count": 57,
   "metadata": {},
   "outputs": [
    {
     "data": {
      "text/plain": [
       "(array([-87.64547893, -70.74918386, -92.35066878, -83.38696549,\n",
       "        -79.72066499, -74.36214545, -68.88288644, -81.12066652,\n",
       "        -68.56474267, -82.44400317, -78.77511009, -81.71807236,\n",
       "        -79.74918386, -82.62325916, -75.49067042]),\n",
       " array([20.        , 16.        , 19.79999924, 18.39999962, 17.10000038,\n",
       "        15.5       , 14.69999981, 17.10000038, 15.39999962, 16.20000076,\n",
       "        15.        , 17.20000076, 16.        , 17.        , 14.39999962]))"
      ]
     },
     "execution_count": 57,
     "metadata": {},
     "output_type": "execute_result"
    }
   ],
   "source": [
    "(hypothesis(X, theta) - y), X"
   ]
  },
  {
   "cell_type": "markdown",
   "metadata": {},
   "source": [
    "Now we will minimize cost with help of **gradient descent**"
   ]
  },
  {
   "cell_type": "code",
   "execution_count": 58,
   "metadata": {},
   "outputs": [],
   "source": [
    "# minimize cost\n",
    "def gradient_descent(X, y, theta, alpha, steps):\n",
    "    for i in range(steps):\n",
    "        old_cost = cost(X, y, theta)\n",
    "        temp0 = theta[0] - alpha * ((1/m) * np.sum(hypothesis(X, theta) - y))\n",
    "        temp1 = theta[1] - alpha * ((1/m) * np.dot((hypothesis(X, theta) - y), X))\n",
    "        theta[0] = temp0\n",
    "        theta[1] = temp1\n",
    "        new_cost = cost(X, y, theta)\n",
    "        if new_cost > old_cost:\n",
    "            print(\"WARNING!!! COST INCREASING\")\n",
    "        else:\n",
    "            print(\"Cost Decresing\", new_cost)"
   ]
  },
  {
   "cell_type": "code",
   "execution_count": 62,
   "metadata": {},
   "outputs": [
    {
     "name": "stdout",
     "output_type": "stream",
     "text": [
      "Cost Decresing 9.24630550184814\n",
      "Cost Decresing 9.246299931707105\n",
      "Cost Decresing 9.246294361576792\n",
      "Cost Decresing 9.246288791457197\n",
      "Cost Decresing 9.246283221348309\n",
      "Cost Decresing 9.246277651250153\n",
      "Cost Decresing 9.246272081162708\n",
      "Cost Decresing 9.246266511085983\n",
      "Cost Decresing 9.246260941019973\n",
      "Cost Decresing 9.246255370964697\n",
      "Cost Decresing 9.246249800920113\n",
      "Cost Decresing 9.246244230886267\n",
      "Cost Decresing 9.246238660863133\n",
      "Cost Decresing 9.246233090850716\n",
      "Cost Decresing 9.246227520849024\n",
      "Cost Decresing 9.24622195085804\n",
      "Cost Decresing 9.246216380877774\n",
      "Cost Decresing 9.246210810908229\n",
      "Cost Decresing 9.246205240949406\n",
      "Cost Decresing 9.24619967100129\n",
      "Cost Decresing 9.246194101063905\n",
      "Cost Decresing 9.246188531137236\n",
      "Cost Decresing 9.246182961221276\n",
      "Cost Decresing 9.246177391316046\n",
      "Cost Decresing 9.246171821421523\n",
      "Cost Decresing 9.246166251537723\n",
      "Cost Decresing 9.246160681664634\n",
      "Cost Decresing 9.246155111802265\n",
      "Cost Decresing 9.24614954195063\n",
      "Cost Decresing 9.246143972109698\n",
      "Cost Decresing 9.246138402279486\n",
      "Cost Decresing 9.246132832459992\n",
      "Cost Decresing 9.246127262651198\n",
      "Cost Decresing 9.246121692853151\n",
      "Cost Decresing 9.246116123065809\n",
      "Cost Decresing 9.246110553289181\n",
      "Cost Decresing 9.246104983523267\n",
      "Cost Decresing 9.246099413768095\n",
      "Cost Decresing 9.24609384402361\n",
      "Cost Decresing 9.246088274289857\n",
      "Cost Decresing 9.246082704566835\n",
      "Cost Decresing 9.246077134854506\n",
      "Cost Decresing 9.246071565152905\n",
      "Cost Decresing 9.246065995462017\n",
      "Cost Decresing 9.246060425781852\n",
      "Cost Decresing 9.246054856112401\n",
      "Cost Decresing 9.246049286453669\n",
      "Cost Decresing 9.246043716805653\n",
      "Cost Decresing 9.246038147168356\n",
      "Cost Decresing 9.246032577541783\n",
      "Cost Decresing 9.246027007925916\n",
      "Cost Decresing 9.246021438320767\n",
      "Cost Decresing 9.246015868726339\n",
      "Cost Decresing 9.246010299142634\n",
      "Cost Decresing 9.246004729569632\n",
      "Cost Decresing 9.245999160007363\n",
      "Cost Decresing 9.245993590455805\n",
      "Cost Decresing 9.245988020914956\n",
      "Cost Decresing 9.245982451384831\n",
      "Cost Decresing 9.24597688186542\n",
      "Cost Decresing 9.245971312356733\n",
      "Cost Decresing 9.245965742858754\n",
      "Cost Decresing 9.245960173371506\n",
      "Cost Decresing 9.245954603894967\n",
      "Cost Decresing 9.245949034429136\n",
      "Cost Decresing 9.24594346497403\n",
      "Cost Decresing 9.245937895529648\n",
      "Cost Decresing 9.245932326095968\n",
      "Cost Decresing 9.24592675667302\n",
      "Cost Decresing 9.245921187260768\n",
      "Cost Decresing 9.245915617859259\n",
      "Cost Decresing 9.245910048468446\n",
      "Cost Decresing 9.245904479088361\n",
      "Cost Decresing 9.245898909718987\n",
      "Cost Decresing 9.24589334036034\n",
      "Cost Decresing 9.245887771012399\n",
      "Cost Decresing 9.245882201675181\n",
      "Cost Decresing 9.245876632348676\n",
      "Cost Decresing 9.245871063032888\n",
      "Cost Decresing 9.245865493727813\n",
      "Cost Decresing 9.245859924433464\n",
      "Cost Decresing 9.245854355149827\n",
      "Cost Decresing 9.245848785876907\n",
      "Cost Decresing 9.245843216614697\n",
      "Cost Decresing 9.245837647363222\n",
      "Cost Decresing 9.245832078122447\n",
      "Cost Decresing 9.24582650889239\n",
      "Cost Decresing 9.245820939673049\n",
      "Cost Decresing 9.245815370464433\n",
      "Cost Decresing 9.245809801266523\n",
      "Cost Decresing 9.245804232079339\n",
      "Cost Decresing 9.245798662902864\n",
      "Cost Decresing 9.245793093737111\n",
      "Cost Decresing 9.245787524582067\n",
      "Cost Decresing 9.245781955437742\n",
      "Cost Decresing 9.245776386304136\n",
      "Cost Decresing 9.24577081718125\n",
      "Cost Decresing 9.245765248069072\n",
      "Cost Decresing 9.245759678967609\n",
      "Cost Decresing 9.245754109876883\n"
     ]
    },
    {
     "data": {
      "text/plain": [
       "array([[0.74752333],\n",
       "       [4.74721199]])"
      ]
     },
     "execution_count": 62,
     "metadata": {},
     "output_type": "execute_result"
    }
   ],
   "source": [
    "# train model of 100 iterations\n",
    "gradient_descent(X, y, theta, alpha=0.0001, steps=100)\n",
    "theta"
   ]
  },
  {
   "cell_type": "markdown",
   "metadata": {},
   "source": [
    "After training we can clearly see we have reduced cost and have found appropriate value of theta"
   ]
  },
  {
   "cell_type": "code",
   "execution_count": 63,
   "metadata": {},
   "outputs": [
    {
     "data": {
      "text/plain": [
       "9.245754109876883"
      ]
     },
     "execution_count": 63,
     "metadata": {},
     "output_type": "execute_result"
    }
   ],
   "source": [
    "# cost after traing model\n",
    "cost(X, y, theta)"
   ]
  },
  {
   "cell_type": "code",
   "execution_count": 64,
   "metadata": {},
   "outputs": [
    {
     "data": {
      "text/plain": [
       "array([[0.74752333],\n",
       "       [4.74721199]])"
      ]
     },
     "execution_count": 64,
     "metadata": {},
     "output_type": "execute_result"
    }
   ],
   "source": [
    "# value of theta after training \n",
    "theta"
   ]
  },
  {
   "cell_type": "code",
   "execution_count": 65,
   "metadata": {},
   "outputs": [
    {
     "data": {
      "image/png": "[encoded data removed]",
      "text/plain": [
       "<Figure size 432x288 with 1 Axes>"
      ]
     },
     "metadata": {},
     "output_type": "display_data"
    }
   ],
   "source": [
    "# regression line after traing model\n",
    "draw_points_and_lines(X, y, \"chirps/sec for the striped ground cricket\", \"temperature in degrees Fahrenheit\", theta)"
   ]
  },
  {
   "cell_type": "markdown",
   "metadata": {},
   "source": [
    "We can clearly see we have fitted line to the points. Thus we have successfully used linear regression to train a model."
   ]
  },
  {
   "cell_type": "markdown",
   "metadata": {},
   "source": [
    "### Prediction"
   ]
  },
  {
   "cell_type": "code",
   "execution_count": 66,
   "metadata": {},
   "outputs": [
    {
     "data": {
      "text/plain": [
       "array([90.94455114])"
      ]
     },
     "execution_count": 66,
     "metadata": {},
     "output_type": "execute_result"
    }
   ],
   "source": [
    "x = np.array([19])\n",
    "hypothesis(x, theta)"
   ]
  },
  {
   "cell_type": "code",
   "execution_count": null,
   "metadata": {},
   "outputs": [],
   "source": []
  }
 ],
 "metadata": {
  "kernelspec": {
   "display_name": "Python 3",
   "language": "python",
   "name": "python3"
  },
  "language_info": {
   "codemirror_mode": {
    "name": "ipython",
    "version": 3
   },
   "file_extension": ".py",
   "mimetype": "text/x-python",
   "name": "python",
   "nbconvert_exporter": "python",
   "pygments_lexer": "ipython3",
   "version": "3.6.5"
  }
 },
 "nbformat": 4,
 "nbformat_minor": 2
}
